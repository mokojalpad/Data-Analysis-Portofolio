{
 "cells": [
  {
   "cell_type": "markdown",
   "metadata": {},
   "source": [
    "## Data Sales E-commerce Fiktif"
   ]
  },
  {
   "cell_type": "markdown",
   "metadata": {},
   "source": [
    "### Prolog"
   ]
  },
  {
   "cell_type": "markdown",
   "metadata": {},
   "source": [
    "Di mini project pertama ini saya akan analisa apa yang terjadi di dalam data terkait. <br>\n",
    "Data ini adalah data sales e-commerce fiktif yang dibuat oleh AI. Data ini berisi sales berdasarkan kategori yang tersedia, dan memiliki penjualan di kota mana saja serta metode pembayarannya dari bulan Januari 2024 sampai Mei 2025. Disini saya akan mencoba berbagai metode untuk Cleaning Data, Exploratory Data Analysis (EDA), Data Visualization menggunakan python serta beberapa framework untuk mempermudah analisanya."
   ]
  },
  {
   "cell_type": "markdown",
   "metadata": {},
   "source": [
    "### Import Library"
   ]
  },
  {
   "cell_type": "code",
   "execution_count": 1,
   "metadata": {},
   "outputs": [],
   "source": [
    "import pandas as pd\n",
    "import matplotlib.pyplot as plt\n",
    "import matplotlib.ticker as ticker\n",
    "import seaborn as sns\n",
    "import warnings\n",
    "warnings.filterwarnings(\"ignore\", category=FutureWarning)  # Nonaktifkan warning FutureWarning"
   ]
  },
  {
   "cell_type": "markdown",
   "metadata": {},
   "source": [
    "### Load Dataset"
   ]
  },
  {
   "cell_type": "code",
   "execution_count": 2,
   "metadata": {},
   "outputs": [
    {
     "data": {
      "application/vnd.microsoft.datawrangler.viewer.v0+json": {
       "columns": [
        {
         "name": "index",
         "rawType": "int64",
         "type": "integer"
        },
        {
         "name": "Order_ID",
         "rawType": "int64",
         "type": "integer"
        },
        {
         "name": "Date",
         "rawType": "object",
         "type": "string"
        },
        {
         "name": "Product",
         "rawType": "object",
         "type": "string"
        },
        {
         "name": "Category",
         "rawType": "object",
         "type": "string"
        },
        {
         "name": "Price",
         "rawType": "int64",
         "type": "integer"
        },
        {
         "name": "Quantity",
         "rawType": "int64",
         "type": "integer"
        },
        {
         "name": "Customer_Location",
         "rawType": "object",
         "type": "string"
        },
        {
         "name": "Payment_Method",
         "rawType": "object",
         "type": "string"
        }
       ],
       "conversionMethod": "pd.DataFrame",
       "ref": "a332cee9-9050-4d51-bf03-a6457ff2dcfc",
       "rows": [
        [
         "0",
         "1001",
         "2024-01-01",
         "Tablet",
         "Accessories",
         "4380993",
         "4",
         "Medan",
         "Bank Transfer"
        ],
        [
         "1",
         "1002",
         "2024-01-02",
         "Smartwatch",
         "Accessories",
         "13620110",
         "2",
         "Yogyakarta",
         "E-Wallet"
        ],
        [
         "2",
         "1003",
         "2024-01-03",
         "Headphones",
         "Accessories",
         "14467111",
         "2",
         "Jakarta",
         "E-Wallet"
        ],
        [
         "3",
         "1004",
         "2024-01-04",
         "Smartwatch",
         "Electronics",
         "3068103",
         "1",
         "Yogyakarta",
         "E-Wallet"
        ],
        [
         "4",
         "1005",
         "2024-01-05",
         "Smartwatch",
         "Accessories",
         "8969872",
         "1",
         "Bandung",
         "E-Wallet"
        ]
       ],
       "shape": {
        "columns": 8,
        "rows": 5
       }
      },
      "text/html": [
       "<div>\n",
       "<style scoped>\n",
       "    .dataframe tbody tr th:only-of-type {\n",
       "        vertical-align: middle;\n",
       "    }\n",
       "\n",
       "    .dataframe tbody tr th {\n",
       "        vertical-align: top;\n",
       "    }\n",
       "\n",
       "    .dataframe thead th {\n",
       "        text-align: right;\n",
       "    }\n",
       "</style>\n",
       "<table border=\"1\" class=\"dataframe\">\n",
       "  <thead>\n",
       "    <tr style=\"text-align: right;\">\n",
       "      <th></th>\n",
       "      <th>Order_ID</th>\n",
       "      <th>Date</th>\n",
       "      <th>Product</th>\n",
       "      <th>Category</th>\n",
       "      <th>Price</th>\n",
       "      <th>Quantity</th>\n",
       "      <th>Customer_Location</th>\n",
       "      <th>Payment_Method</th>\n",
       "    </tr>\n",
       "  </thead>\n",
       "  <tbody>\n",
       "    <tr>\n",
       "      <th>0</th>\n",
       "      <td>1001</td>\n",
       "      <td>2024-01-01</td>\n",
       "      <td>Tablet</td>\n",
       "      <td>Accessories</td>\n",
       "      <td>4380993</td>\n",
       "      <td>4</td>\n",
       "      <td>Medan</td>\n",
       "      <td>Bank Transfer</td>\n",
       "    </tr>\n",
       "    <tr>\n",
       "      <th>1</th>\n",
       "      <td>1002</td>\n",
       "      <td>2024-01-02</td>\n",
       "      <td>Smartwatch</td>\n",
       "      <td>Accessories</td>\n",
       "      <td>13620110</td>\n",
       "      <td>2</td>\n",
       "      <td>Yogyakarta</td>\n",
       "      <td>E-Wallet</td>\n",
       "    </tr>\n",
       "    <tr>\n",
       "      <th>2</th>\n",
       "      <td>1003</td>\n",
       "      <td>2024-01-03</td>\n",
       "      <td>Headphones</td>\n",
       "      <td>Accessories</td>\n",
       "      <td>14467111</td>\n",
       "      <td>2</td>\n",
       "      <td>Jakarta</td>\n",
       "      <td>E-Wallet</td>\n",
       "    </tr>\n",
       "    <tr>\n",
       "      <th>3</th>\n",
       "      <td>1004</td>\n",
       "      <td>2024-01-04</td>\n",
       "      <td>Smartwatch</td>\n",
       "      <td>Electronics</td>\n",
       "      <td>3068103</td>\n",
       "      <td>1</td>\n",
       "      <td>Yogyakarta</td>\n",
       "      <td>E-Wallet</td>\n",
       "    </tr>\n",
       "    <tr>\n",
       "      <th>4</th>\n",
       "      <td>1005</td>\n",
       "      <td>2024-01-05</td>\n",
       "      <td>Smartwatch</td>\n",
       "      <td>Accessories</td>\n",
       "      <td>8969872</td>\n",
       "      <td>1</td>\n",
       "      <td>Bandung</td>\n",
       "      <td>E-Wallet</td>\n",
       "    </tr>\n",
       "  </tbody>\n",
       "</table>\n",
       "</div>"
      ],
      "text/plain": [
       "   Order_ID        Date     Product     Category     Price  Quantity  \\\n",
       "0      1001  2024-01-01      Tablet  Accessories   4380993         4   \n",
       "1      1002  2024-01-02  Smartwatch  Accessories  13620110         2   \n",
       "2      1003  2024-01-03  Headphones  Accessories  14467111         2   \n",
       "3      1004  2024-01-04  Smartwatch  Electronics   3068103         1   \n",
       "4      1005  2024-01-05  Smartwatch  Accessories   8969872         1   \n",
       "\n",
       "  Customer_Location Payment_Method  \n",
       "0             Medan  Bank Transfer  \n",
       "1        Yogyakarta       E-Wallet  \n",
       "2           Jakarta       E-Wallet  \n",
       "3        Yogyakarta       E-Wallet  \n",
       "4           Bandung       E-Wallet  "
      ]
     },
     "execution_count": 2,
     "metadata": {},
     "output_type": "execute_result"
    }
   ],
   "source": [
    "# Load dataset\n",
    "data = pd.read_csv(\"ecommerce_sales.csv\", delimiter = \",\")\n",
    "# Buat salinan data\n",
    "data_copy = data.copy()\n",
    "\n",
    "# Tampilkan 5 baris pertama dari salinan\n",
    "data_copy.head()"
   ]
  },
  {
   "cell_type": "markdown",
   "metadata": {},
   "source": [
    "Di data yang sudah di load terdapat 8 kolom terdiri dari Order_ID, Date, Product, Category, Price, Quantity, Customer_Location, Payment_Method, Total_Sales, Month_Year, Day_of_Week. Di tahap selanjutnya saya akan menggunakan teknik seperti derivation, deduplication, imputation(jika ada) dan transformation."
   ]
  },
  {
   "cell_type": "markdown",
   "metadata": {},
   "source": [
    "### Cek Informasi Data"
   ]
  },
  {
   "cell_type": "code",
   "execution_count": 3,
   "metadata": {},
   "outputs": [
    {
     "name": "stdout",
     "output_type": "stream",
     "text": [
      "<class 'pandas.core.frame.DataFrame'>\n",
      "RangeIndex: 500 entries, 0 to 499\n",
      "Data columns (total 8 columns):\n",
      " #   Column             Non-Null Count  Dtype \n",
      "---  ------             --------------  ----- \n",
      " 0   Order_ID           500 non-null    int64 \n",
      " 1   Date               500 non-null    object\n",
      " 2   Product            500 non-null    object\n",
      " 3   Category           500 non-null    object\n",
      " 4   Price              500 non-null    int64 \n",
      " 5   Quantity           500 non-null    int64 \n",
      " 6   Customer_Location  500 non-null    object\n",
      " 7   Payment_Method     500 non-null    object\n",
      "dtypes: int64(3), object(5)\n",
      "memory usage: 31.4+ KB\n"
     ]
    }
   ],
   "source": [
    "# Melihat informasi dasar dataset\n",
    "data_copy.info()"
   ]
  },
  {
   "cell_type": "markdown",
   "metadata": {},
   "source": [
    "### Melihat Statistik Deskriptif"
   ]
  },
  {
   "cell_type": "code",
   "execution_count": 4,
   "metadata": {},
   "outputs": [
    {
     "data": {
      "application/vnd.microsoft.datawrangler.viewer.v0+json": {
       "columns": [
        {
         "name": "index",
         "rawType": "object",
         "type": "string"
        },
        {
         "name": "Order_ID",
         "rawType": "float64",
         "type": "float"
        },
        {
         "name": "Price",
         "rawType": "float64",
         "type": "float"
        },
        {
         "name": "Quantity",
         "rawType": "float64",
         "type": "float"
        }
       ],
       "conversionMethod": "pd.DataFrame",
       "ref": "5728d64d-0d53-4bcd-bef6-a5138e8638ef",
       "rows": [
        [
         "count",
         "500.0",
         "500.0",
         "500.0"
        ],
        [
         "mean",
         "1250.5",
         "10444087.146",
         "2.49"
        ],
        [
         "std",
         "144.4818327679989",
         "5383152.399468192",
         "1.126249028300354"
        ],
        [
         "min",
         "1001.0",
         "564323.0",
         "1.0"
        ],
        [
         "25%",
         "1125.75",
         "6065717.5",
         "1.0"
        ],
        [
         "50%",
         "1250.5",
         "10430667.5",
         "2.0"
        ],
        [
         "75%",
         "1375.25",
         "14645047.0",
         "4.0"
        ],
        [
         "max",
         "1500.0",
         "19996485.0",
         "4.0"
        ]
       ],
       "shape": {
        "columns": 3,
        "rows": 8
       }
      },
      "text/html": [
       "<div>\n",
       "<style scoped>\n",
       "    .dataframe tbody tr th:only-of-type {\n",
       "        vertical-align: middle;\n",
       "    }\n",
       "\n",
       "    .dataframe tbody tr th {\n",
       "        vertical-align: top;\n",
       "    }\n",
       "\n",
       "    .dataframe thead th {\n",
       "        text-align: right;\n",
       "    }\n",
       "</style>\n",
       "<table border=\"1\" class=\"dataframe\">\n",
       "  <thead>\n",
       "    <tr style=\"text-align: right;\">\n",
       "      <th></th>\n",
       "      <th>Order_ID</th>\n",
       "      <th>Price</th>\n",
       "      <th>Quantity</th>\n",
       "    </tr>\n",
       "  </thead>\n",
       "  <tbody>\n",
       "    <tr>\n",
       "      <th>count</th>\n",
       "      <td>500.000000</td>\n",
       "      <td>5.000000e+02</td>\n",
       "      <td>500.000000</td>\n",
       "    </tr>\n",
       "    <tr>\n",
       "      <th>mean</th>\n",
       "      <td>1250.500000</td>\n",
       "      <td>1.044409e+07</td>\n",
       "      <td>2.490000</td>\n",
       "    </tr>\n",
       "    <tr>\n",
       "      <th>std</th>\n",
       "      <td>144.481833</td>\n",
       "      <td>5.383152e+06</td>\n",
       "      <td>1.126249</td>\n",
       "    </tr>\n",
       "    <tr>\n",
       "      <th>min</th>\n",
       "      <td>1001.000000</td>\n",
       "      <td>5.643230e+05</td>\n",
       "      <td>1.000000</td>\n",
       "    </tr>\n",
       "    <tr>\n",
       "      <th>25%</th>\n",
       "      <td>1125.750000</td>\n",
       "      <td>6.065718e+06</td>\n",
       "      <td>1.000000</td>\n",
       "    </tr>\n",
       "    <tr>\n",
       "      <th>50%</th>\n",
       "      <td>1250.500000</td>\n",
       "      <td>1.043067e+07</td>\n",
       "      <td>2.000000</td>\n",
       "    </tr>\n",
       "    <tr>\n",
       "      <th>75%</th>\n",
       "      <td>1375.250000</td>\n",
       "      <td>1.464505e+07</td>\n",
       "      <td>4.000000</td>\n",
       "    </tr>\n",
       "    <tr>\n",
       "      <th>max</th>\n",
       "      <td>1500.000000</td>\n",
       "      <td>1.999648e+07</td>\n",
       "      <td>4.000000</td>\n",
       "    </tr>\n",
       "  </tbody>\n",
       "</table>\n",
       "</div>"
      ],
      "text/plain": [
       "          Order_ID         Price    Quantity\n",
       "count   500.000000  5.000000e+02  500.000000\n",
       "mean   1250.500000  1.044409e+07    2.490000\n",
       "std     144.481833  5.383152e+06    1.126249\n",
       "min    1001.000000  5.643230e+05    1.000000\n",
       "25%    1125.750000  6.065718e+06    1.000000\n",
       "50%    1250.500000  1.043067e+07    2.000000\n",
       "75%    1375.250000  1.464505e+07    4.000000\n",
       "max    1500.000000  1.999648e+07    4.000000"
      ]
     },
     "execution_count": 4,
     "metadata": {},
     "output_type": "execute_result"
    }
   ],
   "source": [
    "# Melihat statistik deskriptif dari dataset\n",
    "data_copy.describe()"
   ]
  },
  {
   "cell_type": "code",
   "execution_count": 5,
   "metadata": {},
   "outputs": [
    {
     "data": {
      "application/vnd.microsoft.datawrangler.viewer.v0+json": {
       "columns": [
        {
         "name": "index",
         "rawType": "object",
         "type": "string"
        },
        {
         "name": "count",
         "rawType": "object",
         "type": "string"
        },
        {
         "name": "mean",
         "rawType": "object",
         "type": "string"
        },
        {
         "name": "std",
         "rawType": "object",
         "type": "string"
        },
        {
         "name": "min",
         "rawType": "object",
         "type": "string"
        },
        {
         "name": "25%",
         "rawType": "object",
         "type": "string"
        },
        {
         "name": "50%",
         "rawType": "object",
         "type": "string"
        },
        {
         "name": "75%",
         "rawType": "object",
         "type": "string"
        },
        {
         "name": "max",
         "rawType": "object",
         "type": "string"
        }
       ],
       "conversionMethod": "pd.DataFrame",
       "ref": "bdfcf0d6-c609-44ee-b2b8-6ccedd94e0d2",
       "rows": [
        [
         "Order_ID",
         "500.00",
         "1,250.50",
         "144.48",
         "1,001.00",
         "1,125.75",
         "1,250.50",
         "1,375.25",
         "1,500.00"
        ],
        [
         "Price",
         "500.00",
         "10,444,087.15",
         "5,383,152.40",
         "564,323.00",
         "6,065,717.50",
         "10,430,667.50",
         "14,645,047.00",
         "19,996,485.00"
        ],
        [
         "Quantity",
         "500.00",
         "2.49",
         "1.13",
         "1.00",
         "1.00",
         "2.00",
         "4.00",
         "4.00"
        ]
       ],
       "shape": {
        "columns": 8,
        "rows": 3
       }
      },
      "text/html": [
       "<div>\n",
       "<style scoped>\n",
       "    .dataframe tbody tr th:only-of-type {\n",
       "        vertical-align: middle;\n",
       "    }\n",
       "\n",
       "    .dataframe tbody tr th {\n",
       "        vertical-align: top;\n",
       "    }\n",
       "\n",
       "    .dataframe thead th {\n",
       "        text-align: right;\n",
       "    }\n",
       "</style>\n",
       "<table border=\"1\" class=\"dataframe\">\n",
       "  <thead>\n",
       "    <tr style=\"text-align: right;\">\n",
       "      <th></th>\n",
       "      <th>count</th>\n",
       "      <th>mean</th>\n",
       "      <th>std</th>\n",
       "      <th>min</th>\n",
       "      <th>25%</th>\n",
       "      <th>50%</th>\n",
       "      <th>75%</th>\n",
       "      <th>max</th>\n",
       "    </tr>\n",
       "  </thead>\n",
       "  <tbody>\n",
       "    <tr>\n",
       "      <th>Order_ID</th>\n",
       "      <td>500.00</td>\n",
       "      <td>1,250.50</td>\n",
       "      <td>144.48</td>\n",
       "      <td>1,001.00</td>\n",
       "      <td>1,125.75</td>\n",
       "      <td>1,250.50</td>\n",
       "      <td>1,375.25</td>\n",
       "      <td>1,500.00</td>\n",
       "    </tr>\n",
       "    <tr>\n",
       "      <th>Price</th>\n",
       "      <td>500.00</td>\n",
       "      <td>10,444,087.15</td>\n",
       "      <td>5,383,152.40</td>\n",
       "      <td>564,323.00</td>\n",
       "      <td>6,065,717.50</td>\n",
       "      <td>10,430,667.50</td>\n",
       "      <td>14,645,047.00</td>\n",
       "      <td>19,996,485.00</td>\n",
       "    </tr>\n",
       "    <tr>\n",
       "      <th>Quantity</th>\n",
       "      <td>500.00</td>\n",
       "      <td>2.49</td>\n",
       "      <td>1.13</td>\n",
       "      <td>1.00</td>\n",
       "      <td>1.00</td>\n",
       "      <td>2.00</td>\n",
       "      <td>4.00</td>\n",
       "      <td>4.00</td>\n",
       "    </tr>\n",
       "  </tbody>\n",
       "</table>\n",
       "</div>"
      ],
      "text/plain": [
       "           count           mean           std         min           25%  \\\n",
       "Order_ID  500.00       1,250.50        144.48    1,001.00      1,125.75   \n",
       "Price     500.00  10,444,087.15  5,383,152.40  564,323.00  6,065,717.50   \n",
       "Quantity  500.00           2.49          1.13        1.00          1.00   \n",
       "\n",
       "                    50%            75%            max  \n",
       "Order_ID       1,250.50       1,375.25       1,500.00  \n",
       "Price     10,430,667.50  14,645,047.00  19,996,485.00  \n",
       "Quantity           2.00           4.00           4.00  "
      ]
     },
     "execution_count": 5,
     "metadata": {},
     "output_type": "execute_result"
    }
   ],
   "source": [
    "# Buat statistik deskriptif dalam bentuk DataFrame yang lebih rapi\n",
    "stats = data_copy.describe().transpose()\n",
    "\n",
    "# Format angka agar lebih mudah dibaca (dengan koma dan tanpa notasi eksponensial)\n",
    "stats = stats.map(lambda x: f\"{x:,.2f}\")\n",
    "\n",
    "stats"
   ]
  },
  {
   "cell_type": "markdown",
   "metadata": {},
   "source": [
    "### Cek Jumlah Data Hilang (Missing Values)"
   ]
  },
  {
   "cell_type": "code",
   "execution_count": 6,
   "metadata": {},
   "outputs": [
    {
     "data": {
      "text/plain": [
       "Order_ID             0\n",
       "Date                 0\n",
       "Product              0\n",
       "Category             0\n",
       "Price                0\n",
       "Quantity             0\n",
       "Customer_Location    0\n",
       "Payment_Method       0\n",
       "dtype: int64"
      ]
     },
     "execution_count": 6,
     "metadata": {},
     "output_type": "execute_result"
    }
   ],
   "source": [
    "# Menampilkan data atau value kosong di setiap kolom\n",
    "data_copy.isnull().sum()"
   ]
  },
  {
   "cell_type": "markdown",
   "metadata": {},
   "source": [
    "### Mengubah Kolom Date ke Format Datetime "
   ]
  },
  {
   "cell_type": "code",
   "execution_count": 7,
   "metadata": {},
   "outputs": [
    {
     "data": {
      "text/plain": [
       "Order_ID                      int64\n",
       "Date                 datetime64[ns]\n",
       "Product                      object\n",
       "Category                     object\n",
       "Price                         int64\n",
       "Quantity                      int64\n",
       "Customer_Location            object\n",
       "Payment_Method               object\n",
       "dtype: object"
      ]
     },
     "execution_count": 7,
     "metadata": {},
     "output_type": "execute_result"
    }
   ],
   "source": [
    "# Ubah kolom Date menjadi datetime\n",
    "data_copy[\"Date\"] = pd.to_datetime(data_copy[\"Date\"])\n",
    "\n",
    "data_copy.dtypes"
   ]
  },
  {
   "cell_type": "markdown",
   "metadata": {},
   "source": [
    "### Filter Date (Januari 2024 - April 2025) "
   ]
  },
  {
   "cell_type": "code",
   "execution_count": 8,
   "metadata": {},
   "outputs": [
    {
     "data": {
      "application/vnd.microsoft.datawrangler.viewer.v0+json": {
       "columns": [
        {
         "name": "index",
         "rawType": "int64",
         "type": "integer"
        },
        {
         "name": "Order_ID",
         "rawType": "int64",
         "type": "integer"
        },
        {
         "name": "Date",
         "rawType": "datetime64[ns]",
         "type": "datetime"
        },
        {
         "name": "Product",
         "rawType": "object",
         "type": "string"
        },
        {
         "name": "Category",
         "rawType": "object",
         "type": "string"
        },
        {
         "name": "Price",
         "rawType": "int64",
         "type": "integer"
        },
        {
         "name": "Quantity",
         "rawType": "int64",
         "type": "integer"
        },
        {
         "name": "Customer_Location",
         "rawType": "object",
         "type": "string"
        },
        {
         "name": "Payment_Method",
         "rawType": "object",
         "type": "string"
        }
       ],
       "conversionMethod": "pd.DataFrame",
       "ref": "ba40203b-d37f-40b2-aabc-f8052478f213",
       "rows": [
        [
         "0",
         "1001",
         "2024-01-01 00:00:00",
         "Tablet",
         "Accessories",
         "4380993",
         "4",
         "Medan",
         "Bank Transfer"
        ],
        [
         "1",
         "1002",
         "2024-01-02 00:00:00",
         "Smartwatch",
         "Accessories",
         "13620110",
         "2",
         "Yogyakarta",
         "E-Wallet"
        ],
        [
         "2",
         "1003",
         "2024-01-03 00:00:00",
         "Headphones",
         "Accessories",
         "14467111",
         "2",
         "Jakarta",
         "E-Wallet"
        ],
        [
         "3",
         "1004",
         "2024-01-04 00:00:00",
         "Smartwatch",
         "Electronics",
         "3068103",
         "1",
         "Yogyakarta",
         "E-Wallet"
        ],
        [
         "4",
         "1005",
         "2024-01-05 00:00:00",
         "Smartwatch",
         "Accessories",
         "8969872",
         "1",
         "Bandung",
         "E-Wallet"
        ],
        [
         "5",
         "1006",
         "2024-01-06 00:00:00",
         "Smartphone",
         "Electronics",
         "8911883",
         "4",
         "Surabaya",
         "Credit Card"
        ],
        [
         "6",
         "1007",
         "2024-01-07 00:00:00",
         "Headphones",
         "Electronics",
         "11582322",
         "1",
         "Bandung",
         "E-Wallet"
        ],
        [
         "7",
         "1008",
         "2024-01-08 00:00:00",
         "Headphones",
         "Electronics",
         "16703305",
         "1",
         "Medan",
         "Debit Card"
        ],
        [
         "8",
         "1009",
         "2024-01-09 00:00:00",
         "Headphones",
         "Electronics",
         "11348680",
         "2",
         "Yogyakarta",
         "Debit Card"
        ],
        [
         "9",
         "1010",
         "2024-01-10 00:00:00",
         "Smartwatch",
         "Accessories",
         "6982532",
         "3",
         "Yogyakarta",
         "Credit Card"
        ],
        [
         "10",
         "1011",
         "2024-01-11 00:00:00",
         "Tablet",
         "Accessories",
         "16422693",
         "1",
         "Yogyakarta",
         "Debit Card"
        ],
        [
         "11",
         "1012",
         "2024-01-12 00:00:00",
         "Headphones",
         "Electronics",
         "5696467",
         "3",
         "Bandung",
         "Debit Card"
        ],
        [
         "12",
         "1013",
         "2024-01-13 00:00:00",
         "Smartwatch",
         "Electronics",
         "2500609",
         "1",
         "Medan",
         "E-Wallet"
        ],
        [
         "13",
         "1014",
         "2024-01-14 00:00:00",
         "Smartphone",
         "Electronics",
         "9801434",
         "1",
         "Surabaya",
         "Debit Card"
        ],
        [
         "14",
         "1015",
         "2024-01-15 00:00:00",
         "Tablet",
         "Accessories",
         "19974359",
         "4",
         "Surabaya",
         "Credit Card"
        ],
        [
         "15",
         "1016",
         "2024-01-16 00:00:00",
         "Smartphone",
         "Electronics",
         "9692300",
         "4",
         "Bandung",
         "E-Wallet"
        ],
        [
         "16",
         "1017",
         "2024-01-17 00:00:00",
         "Tablet",
         "Electronics",
         "10049765",
         "4",
         "Yogyakarta",
         "Bank Transfer"
        ],
        [
         "17",
         "1018",
         "2024-01-18 00:00:00",
         "Smartwatch",
         "Accessories",
         "18591748",
         "3",
         "Jakarta",
         "E-Wallet"
        ],
        [
         "18",
         "1019",
         "2024-01-19 00:00:00",
         "Laptop",
         "Accessories",
         "17698456",
         "2",
         "Bandung",
         "Credit Card"
        ],
        [
         "19",
         "1020",
         "2024-01-20 00:00:00",
         "Tablet",
         "Electronics",
         "12748352",
         "1",
         "Bandung",
         "E-Wallet"
        ],
        [
         "20",
         "1021",
         "2024-01-21 00:00:00",
         "Smartphone",
         "Accessories",
         "1444789",
         "1",
         "Medan",
         "E-Wallet"
        ],
        [
         "21",
         "1022",
         "2024-01-22 00:00:00",
         "Smartwatch",
         "Accessories",
         "19490789",
         "1",
         "Surabaya",
         "Credit Card"
        ],
        [
         "22",
         "1023",
         "2024-01-23 00:00:00",
         "Tablet",
         "Electronics",
         "16693014",
         "3",
         "Bandung",
         "E-Wallet"
        ],
        [
         "23",
         "1024",
         "2024-01-24 00:00:00",
         "Laptop",
         "Accessories",
         "15252367",
         "4",
         "Bandung",
         "Credit Card"
        ],
        [
         "24",
         "1025",
         "2024-01-25 00:00:00",
         "Laptop",
         "Electronics",
         "19532579",
         "2",
         "Yogyakarta",
         "Credit Card"
        ],
        [
         "25",
         "1026",
         "2024-01-26 00:00:00",
         "Headphones",
         "Accessories",
         "8875741",
         "3",
         "Yogyakarta",
         "Bank Transfer"
        ],
        [
         "26",
         "1027",
         "2024-01-27 00:00:00",
         "Headphones",
         "Electronics",
         "17014877",
         "4",
         "Jakarta",
         "Debit Card"
        ],
        [
         "27",
         "1028",
         "2024-01-28 00:00:00",
         "Smartphone",
         "Electronics",
         "5556861",
         "3",
         "Medan",
         "Debit Card"
        ],
        [
         "28",
         "1029",
         "2024-01-29 00:00:00",
         "Tablet",
         "Electronics",
         "6936446",
         "2",
         "Jakarta",
         "E-Wallet"
        ],
        [
         "29",
         "1030",
         "2024-01-30 00:00:00",
         "Tablet",
         "Accessories",
         "4648887",
         "4",
         "Yogyakarta",
         "E-Wallet"
        ],
        [
         "30",
         "1031",
         "2024-01-31 00:00:00",
         "Headphones",
         "Electronics",
         "9557014",
         "3",
         "Surabaya",
         "Bank Transfer"
        ],
        [
         "31",
         "1032",
         "2024-02-01 00:00:00",
         "Tablet",
         "Accessories",
         "5112338",
         "2",
         "Yogyakarta",
         "Bank Transfer"
        ],
        [
         "32",
         "1033",
         "2024-02-02 00:00:00",
         "Tablet",
         "Electronics",
         "11742014",
         "1",
         "Medan",
         "Bank Transfer"
        ],
        [
         "33",
         "1034",
         "2024-02-03 00:00:00",
         "Laptop",
         "Electronics",
         "18310471",
         "2",
         "Yogyakarta",
         "Credit Card"
        ],
        [
         "34",
         "1035",
         "2024-02-04 00:00:00",
         "Headphones",
         "Accessories",
         "7582212",
         "1",
         "Medan",
         "Bank Transfer"
        ],
        [
         "35",
         "1036",
         "2024-02-05 00:00:00",
         "Smartwatch",
         "Electronics",
         "11941374",
         "3",
         "Medan",
         "Bank Transfer"
        ],
        [
         "36",
         "1037",
         "2024-02-06 00:00:00",
         "Headphones",
         "Electronics",
         "3594235",
         "4",
         "Medan",
         "E-Wallet"
        ],
        [
         "37",
         "1038",
         "2024-02-07 00:00:00",
         "Smartwatch",
         "Accessories",
         "14815594",
         "4",
         "Medan",
         "Bank Transfer"
        ],
        [
         "38",
         "1039",
         "2024-02-08 00:00:00",
         "Laptop",
         "Electronics",
         "887952",
         "3",
         "Medan",
         "Credit Card"
        ],
        [
         "39",
         "1040",
         "2024-02-09 00:00:00",
         "Smartphone",
         "Electronics",
         "18307333",
         "4",
         "Surabaya",
         "Credit Card"
        ],
        [
         "40",
         "1041",
         "2024-02-10 00:00:00",
         "Tablet",
         "Electronics",
         "2857821",
         "4",
         "Jakarta",
         "E-Wallet"
        ],
        [
         "41",
         "1042",
         "2024-02-11 00:00:00",
         "Laptop",
         "Electronics",
         "9413742",
         "1",
         "Bandung",
         "Bank Transfer"
        ],
        [
         "42",
         "1043",
         "2024-02-12 00:00:00",
         "Tablet",
         "Accessories",
         "16763882",
         "3",
         "Jakarta",
         "Bank Transfer"
        ],
        [
         "43",
         "1044",
         "2024-02-13 00:00:00",
         "Smartphone",
         "Accessories",
         "6084263",
         "2",
         "Medan",
         "Credit Card"
        ],
        [
         "44",
         "1045",
         "2024-02-14 00:00:00",
         "Smartphone",
         "Electronics",
         "744761",
         "1",
         "Surabaya",
         "Bank Transfer"
        ],
        [
         "45",
         "1046",
         "2024-02-15 00:00:00",
         "Laptop",
         "Accessories",
         "11860428",
         "3",
         "Yogyakarta",
         "Bank Transfer"
        ],
        [
         "46",
         "1047",
         "2024-02-16 00:00:00",
         "Smartphone",
         "Electronics",
         "17112651",
         "1",
         "Surabaya",
         "Bank Transfer"
        ],
        [
         "47",
         "1048",
         "2024-02-17 00:00:00",
         "Smartwatch",
         "Accessories",
         "8886180",
         "2",
         "Medan",
         "Debit Card"
        ],
        [
         "48",
         "1049",
         "2024-02-18 00:00:00",
         "Smartphone",
         "Electronics",
         "14960021",
         "2",
         "Surabaya",
         "E-Wallet"
        ],
        [
         "49",
         "1050",
         "2024-02-19 00:00:00",
         "Tablet",
         "Electronics",
         "564323",
         "3",
         "Surabaya",
         "Debit Card"
        ]
       ],
       "shape": {
        "columns": 8,
        "rows": 486
       }
      },
      "text/html": [
       "<div>\n",
       "<style scoped>\n",
       "    .dataframe tbody tr th:only-of-type {\n",
       "        vertical-align: middle;\n",
       "    }\n",
       "\n",
       "    .dataframe tbody tr th {\n",
       "        vertical-align: top;\n",
       "    }\n",
       "\n",
       "    .dataframe thead th {\n",
       "        text-align: right;\n",
       "    }\n",
       "</style>\n",
       "<table border=\"1\" class=\"dataframe\">\n",
       "  <thead>\n",
       "    <tr style=\"text-align: right;\">\n",
       "      <th></th>\n",
       "      <th>Order_ID</th>\n",
       "      <th>Date</th>\n",
       "      <th>Product</th>\n",
       "      <th>Category</th>\n",
       "      <th>Price</th>\n",
       "      <th>Quantity</th>\n",
       "      <th>Customer_Location</th>\n",
       "      <th>Payment_Method</th>\n",
       "    </tr>\n",
       "  </thead>\n",
       "  <tbody>\n",
       "    <tr>\n",
       "      <th>0</th>\n",
       "      <td>1001</td>\n",
       "      <td>2024-01-01</td>\n",
       "      <td>Tablet</td>\n",
       "      <td>Accessories</td>\n",
       "      <td>4380993</td>\n",
       "      <td>4</td>\n",
       "      <td>Medan</td>\n",
       "      <td>Bank Transfer</td>\n",
       "    </tr>\n",
       "    <tr>\n",
       "      <th>1</th>\n",
       "      <td>1002</td>\n",
       "      <td>2024-01-02</td>\n",
       "      <td>Smartwatch</td>\n",
       "      <td>Accessories</td>\n",
       "      <td>13620110</td>\n",
       "      <td>2</td>\n",
       "      <td>Yogyakarta</td>\n",
       "      <td>E-Wallet</td>\n",
       "    </tr>\n",
       "    <tr>\n",
       "      <th>2</th>\n",
       "      <td>1003</td>\n",
       "      <td>2024-01-03</td>\n",
       "      <td>Headphones</td>\n",
       "      <td>Accessories</td>\n",
       "      <td>14467111</td>\n",
       "      <td>2</td>\n",
       "      <td>Jakarta</td>\n",
       "      <td>E-Wallet</td>\n",
       "    </tr>\n",
       "    <tr>\n",
       "      <th>3</th>\n",
       "      <td>1004</td>\n",
       "      <td>2024-01-04</td>\n",
       "      <td>Smartwatch</td>\n",
       "      <td>Electronics</td>\n",
       "      <td>3068103</td>\n",
       "      <td>1</td>\n",
       "      <td>Yogyakarta</td>\n",
       "      <td>E-Wallet</td>\n",
       "    </tr>\n",
       "    <tr>\n",
       "      <th>4</th>\n",
       "      <td>1005</td>\n",
       "      <td>2024-01-05</td>\n",
       "      <td>Smartwatch</td>\n",
       "      <td>Accessories</td>\n",
       "      <td>8969872</td>\n",
       "      <td>1</td>\n",
       "      <td>Bandung</td>\n",
       "      <td>E-Wallet</td>\n",
       "    </tr>\n",
       "    <tr>\n",
       "      <th>...</th>\n",
       "      <td>...</td>\n",
       "      <td>...</td>\n",
       "      <td>...</td>\n",
       "      <td>...</td>\n",
       "      <td>...</td>\n",
       "      <td>...</td>\n",
       "      <td>...</td>\n",
       "      <td>...</td>\n",
       "    </tr>\n",
       "    <tr>\n",
       "      <th>481</th>\n",
       "      <td>1482</td>\n",
       "      <td>2025-04-26</td>\n",
       "      <td>Tablet</td>\n",
       "      <td>Accessories</td>\n",
       "      <td>8695810</td>\n",
       "      <td>3</td>\n",
       "      <td>Yogyakarta</td>\n",
       "      <td>Credit Card</td>\n",
       "    </tr>\n",
       "    <tr>\n",
       "      <th>482</th>\n",
       "      <td>1483</td>\n",
       "      <td>2025-04-27</td>\n",
       "      <td>Smartphone</td>\n",
       "      <td>Accessories</td>\n",
       "      <td>7685197</td>\n",
       "      <td>4</td>\n",
       "      <td>Surabaya</td>\n",
       "      <td>Debit Card</td>\n",
       "    </tr>\n",
       "    <tr>\n",
       "      <th>483</th>\n",
       "      <td>1484</td>\n",
       "      <td>2025-04-28</td>\n",
       "      <td>Smartwatch</td>\n",
       "      <td>Accessories</td>\n",
       "      <td>7214301</td>\n",
       "      <td>4</td>\n",
       "      <td>Yogyakarta</td>\n",
       "      <td>E-Wallet</td>\n",
       "    </tr>\n",
       "    <tr>\n",
       "      <th>484</th>\n",
       "      <td>1485</td>\n",
       "      <td>2025-04-29</td>\n",
       "      <td>Laptop</td>\n",
       "      <td>Accessories</td>\n",
       "      <td>11692304</td>\n",
       "      <td>4</td>\n",
       "      <td>Surabaya</td>\n",
       "      <td>Bank Transfer</td>\n",
       "    </tr>\n",
       "    <tr>\n",
       "      <th>485</th>\n",
       "      <td>1486</td>\n",
       "      <td>2025-04-30</td>\n",
       "      <td>Headphones</td>\n",
       "      <td>Electronics</td>\n",
       "      <td>15504124</td>\n",
       "      <td>2</td>\n",
       "      <td>Medan</td>\n",
       "      <td>Credit Card</td>\n",
       "    </tr>\n",
       "  </tbody>\n",
       "</table>\n",
       "<p>486 rows × 8 columns</p>\n",
       "</div>"
      ],
      "text/plain": [
       "     Order_ID       Date     Product     Category     Price  Quantity  \\\n",
       "0        1001 2024-01-01      Tablet  Accessories   4380993         4   \n",
       "1        1002 2024-01-02  Smartwatch  Accessories  13620110         2   \n",
       "2        1003 2024-01-03  Headphones  Accessories  14467111         2   \n",
       "3        1004 2024-01-04  Smartwatch  Electronics   3068103         1   \n",
       "4        1005 2024-01-05  Smartwatch  Accessories   8969872         1   \n",
       "..        ...        ...         ...          ...       ...       ...   \n",
       "481      1482 2025-04-26      Tablet  Accessories   8695810         3   \n",
       "482      1483 2025-04-27  Smartphone  Accessories   7685197         4   \n",
       "483      1484 2025-04-28  Smartwatch  Accessories   7214301         4   \n",
       "484      1485 2025-04-29      Laptop  Accessories  11692304         4   \n",
       "485      1486 2025-04-30  Headphones  Electronics  15504124         2   \n",
       "\n",
       "    Customer_Location Payment_Method  \n",
       "0               Medan  Bank Transfer  \n",
       "1          Yogyakarta       E-Wallet  \n",
       "2             Jakarta       E-Wallet  \n",
       "3          Yogyakarta       E-Wallet  \n",
       "4             Bandung       E-Wallet  \n",
       "..                ...            ...  \n",
       "481        Yogyakarta    Credit Card  \n",
       "482          Surabaya     Debit Card  \n",
       "483        Yogyakarta       E-Wallet  \n",
       "484          Surabaya  Bank Transfer  \n",
       "485             Medan    Credit Card  \n",
       "\n",
       "[486 rows x 8 columns]"
      ]
     },
     "execution_count": 8,
     "metadata": {},
     "output_type": "execute_result"
    }
   ],
   "source": [
    "# Menampilkan date yang di perlukan saja yaitu dari Januari 2024 sampai April 2025\n",
    "start_date = \"2024-01-01\"\n",
    "end_date = \"2025-05-01\"\n",
    "\n",
    "data_copy = data_copy[(data_copy[\"Date\"] >= start_date) & (data_copy[\"Date\"] < end_date)]\n",
    "\n",
    "data_copy"
   ]
  },
  {
   "cell_type": "markdown",
   "metadata": {},
   "source": [
    "### Mengecek & Menghapus data duplikasi (Jika Ada)"
   ]
  },
  {
   "cell_type": "code",
   "execution_count": 9,
   "metadata": {},
   "outputs": [
    {
     "name": "stdout",
     "output_type": "stream",
     "text": [
      "Jumlah duplikasi 0\n"
     ]
    }
   ],
   "source": [
    "# Cek jumlah duplikasi\n",
    "print(\"Jumlah duplikasi\", data_copy.duplicated().sum())\n",
    "\n",
    "# Hapus duplikasi jika ada\n",
    "data_copy = data_copy.drop_duplicates()"
   ]
  },
  {
   "cell_type": "markdown",
   "metadata": {},
   "source": [
    "### Menambahkan Kolom Total Sales"
   ]
  },
  {
   "cell_type": "code",
   "execution_count": 10,
   "metadata": {},
   "outputs": [
    {
     "data": {
      "application/vnd.microsoft.datawrangler.viewer.v0+json": {
       "columns": [
        {
         "name": "index",
         "rawType": "int64",
         "type": "integer"
        },
        {
         "name": "Price",
         "rawType": "int64",
         "type": "integer"
        },
        {
         "name": "Quantity",
         "rawType": "int64",
         "type": "integer"
        },
        {
         "name": "Total_Sales",
         "rawType": "int64",
         "type": "integer"
        }
       ],
       "conversionMethod": "pd.DataFrame",
       "ref": "014b9064-3298-4ef1-b5bb-be1827279d5d",
       "rows": [
        [
         "0",
         "4380993",
         "4",
         "17523972"
        ],
        [
         "1",
         "13620110",
         "2",
         "27240220"
        ],
        [
         "2",
         "14467111",
         "2",
         "28934222"
        ],
        [
         "3",
         "3068103",
         "1",
         "3068103"
        ],
        [
         "4",
         "8969872",
         "1",
         "8969872"
        ],
        [
         "5",
         "8911883",
         "4",
         "35647532"
        ],
        [
         "6",
         "11582322",
         "1",
         "11582322"
        ],
        [
         "7",
         "16703305",
         "1",
         "16703305"
        ],
        [
         "8",
         "11348680",
         "2",
         "22697360"
        ],
        [
         "9",
         "6982532",
         "3",
         "20947596"
        ],
        [
         "10",
         "16422693",
         "1",
         "16422693"
        ],
        [
         "11",
         "5696467",
         "3",
         "17089401"
        ],
        [
         "12",
         "2500609",
         "1",
         "2500609"
        ],
        [
         "13",
         "9801434",
         "1",
         "9801434"
        ],
        [
         "14",
         "19974359",
         "4",
         "79897436"
        ],
        [
         "15",
         "9692300",
         "4",
         "38769200"
        ],
        [
         "16",
         "10049765",
         "4",
         "40199060"
        ],
        [
         "17",
         "18591748",
         "3",
         "55775244"
        ],
        [
         "18",
         "17698456",
         "2",
         "35396912"
        ],
        [
         "19",
         "12748352",
         "1",
         "12748352"
        ],
        [
         "20",
         "1444789",
         "1",
         "1444789"
        ],
        [
         "21",
         "19490789",
         "1",
         "19490789"
        ],
        [
         "22",
         "16693014",
         "3",
         "50079042"
        ],
        [
         "23",
         "15252367",
         "4",
         "61009468"
        ],
        [
         "24",
         "19532579",
         "2",
         "39065158"
        ],
        [
         "25",
         "8875741",
         "3",
         "26627223"
        ],
        [
         "26",
         "17014877",
         "4",
         "68059508"
        ],
        [
         "27",
         "5556861",
         "3",
         "16670583"
        ],
        [
         "28",
         "6936446",
         "2",
         "13872892"
        ],
        [
         "29",
         "4648887",
         "4",
         "18595548"
        ],
        [
         "30",
         "9557014",
         "3",
         "28671042"
        ],
        [
         "31",
         "5112338",
         "2",
         "10224676"
        ],
        [
         "32",
         "11742014",
         "1",
         "11742014"
        ],
        [
         "33",
         "18310471",
         "2",
         "36620942"
        ],
        [
         "34",
         "7582212",
         "1",
         "7582212"
        ],
        [
         "35",
         "11941374",
         "3",
         "35824122"
        ],
        [
         "36",
         "3594235",
         "4",
         "14376940"
        ],
        [
         "37",
         "14815594",
         "4",
         "59262376"
        ],
        [
         "38",
         "887952",
         "3",
         "2663856"
        ],
        [
         "39",
         "18307333",
         "4",
         "73229332"
        ],
        [
         "40",
         "2857821",
         "4",
         "11431284"
        ],
        [
         "41",
         "9413742",
         "1",
         "9413742"
        ],
        [
         "42",
         "16763882",
         "3",
         "50291646"
        ],
        [
         "43",
         "6084263",
         "2",
         "12168526"
        ],
        [
         "44",
         "744761",
         "1",
         "744761"
        ],
        [
         "45",
         "11860428",
         "3",
         "35581284"
        ],
        [
         "46",
         "17112651",
         "1",
         "17112651"
        ],
        [
         "47",
         "8886180",
         "2",
         "17772360"
        ],
        [
         "48",
         "14960021",
         "2",
         "29920042"
        ],
        [
         "49",
         "564323",
         "3",
         "1692969"
        ]
       ],
       "shape": {
        "columns": 3,
        "rows": 486
       }
      },
      "text/html": [
       "<div>\n",
       "<style scoped>\n",
       "    .dataframe tbody tr th:only-of-type {\n",
       "        vertical-align: middle;\n",
       "    }\n",
       "\n",
       "    .dataframe tbody tr th {\n",
       "        vertical-align: top;\n",
       "    }\n",
       "\n",
       "    .dataframe thead th {\n",
       "        text-align: right;\n",
       "    }\n",
       "</style>\n",
       "<table border=\"1\" class=\"dataframe\">\n",
       "  <thead>\n",
       "    <tr style=\"text-align: right;\">\n",
       "      <th></th>\n",
       "      <th>Price</th>\n",
       "      <th>Quantity</th>\n",
       "      <th>Total_Sales</th>\n",
       "    </tr>\n",
       "  </thead>\n",
       "  <tbody>\n",
       "    <tr>\n",
       "      <th>0</th>\n",
       "      <td>4380993</td>\n",
       "      <td>4</td>\n",
       "      <td>17523972</td>\n",
       "    </tr>\n",
       "    <tr>\n",
       "      <th>1</th>\n",
       "      <td>13620110</td>\n",
       "      <td>2</td>\n",
       "      <td>27240220</td>\n",
       "    </tr>\n",
       "    <tr>\n",
       "      <th>2</th>\n",
       "      <td>14467111</td>\n",
       "      <td>2</td>\n",
       "      <td>28934222</td>\n",
       "    </tr>\n",
       "    <tr>\n",
       "      <th>3</th>\n",
       "      <td>3068103</td>\n",
       "      <td>1</td>\n",
       "      <td>3068103</td>\n",
       "    </tr>\n",
       "    <tr>\n",
       "      <th>4</th>\n",
       "      <td>8969872</td>\n",
       "      <td>1</td>\n",
       "      <td>8969872</td>\n",
       "    </tr>\n",
       "    <tr>\n",
       "      <th>...</th>\n",
       "      <td>...</td>\n",
       "      <td>...</td>\n",
       "      <td>...</td>\n",
       "    </tr>\n",
       "    <tr>\n",
       "      <th>481</th>\n",
       "      <td>8695810</td>\n",
       "      <td>3</td>\n",
       "      <td>26087430</td>\n",
       "    </tr>\n",
       "    <tr>\n",
       "      <th>482</th>\n",
       "      <td>7685197</td>\n",
       "      <td>4</td>\n",
       "      <td>30740788</td>\n",
       "    </tr>\n",
       "    <tr>\n",
       "      <th>483</th>\n",
       "      <td>7214301</td>\n",
       "      <td>4</td>\n",
       "      <td>28857204</td>\n",
       "    </tr>\n",
       "    <tr>\n",
       "      <th>484</th>\n",
       "      <td>11692304</td>\n",
       "      <td>4</td>\n",
       "      <td>46769216</td>\n",
       "    </tr>\n",
       "    <tr>\n",
       "      <th>485</th>\n",
       "      <td>15504124</td>\n",
       "      <td>2</td>\n",
       "      <td>31008248</td>\n",
       "    </tr>\n",
       "  </tbody>\n",
       "</table>\n",
       "<p>486 rows × 3 columns</p>\n",
       "</div>"
      ],
      "text/plain": [
       "        Price  Quantity  Total_Sales\n",
       "0     4380993         4     17523972\n",
       "1    13620110         2     27240220\n",
       "2    14467111         2     28934222\n",
       "3     3068103         1      3068103\n",
       "4     8969872         1      8969872\n",
       "..        ...       ...          ...\n",
       "481   8695810         3     26087430\n",
       "482   7685197         4     30740788\n",
       "483   7214301         4     28857204\n",
       "484  11692304         4     46769216\n",
       "485  15504124         2     31008248\n",
       "\n",
       "[486 rows x 3 columns]"
      ]
     },
     "execution_count": 10,
     "metadata": {},
     "output_type": "execute_result"
    }
   ],
   "source": [
    "# Menambahkan kolom total_sales\n",
    "data_copy[\"Total_Sales\"] = data_copy[\"Price\"] * data_copy[\"Quantity\"]\n",
    "\n",
    "# Tampilkan data untuk cek apakah berhasil\n",
    "data_copy[[\"Price\", \"Quantity\", \"Total_Sales\"]]"
   ]
  },
  {
   "cell_type": "markdown",
   "metadata": {},
   "source": [
    "### Analisis Total Penjualan Secara Menyeluruh"
   ]
  },
  {
   "cell_type": "code",
   "execution_count": 11,
   "metadata": {},
   "outputs": [
    {
     "name": "stdout",
     "output_type": "stream",
     "text": [
      "Total Penjualan keseluruhan: Rp 12,606,791,998.00\n"
     ]
    }
   ],
   "source": [
    "# Hitung total penjualan keseluruhan\n",
    "total_sales = data_copy[\"Total_Sales\"].sum()\n",
    "\n",
    "# Format angka agar lebih rapih\n",
    "total_sales_formatted = f\"{total_sales:,.2f}\"\n",
    "\n",
    "# Menunjukan hasilnya\n",
    "print(f\"Total Penjualan keseluruhan: Rp {total_sales_formatted}\")"
   ]
  },
  {
   "cell_type": "markdown",
   "metadata": {},
   "source": [
    "Dari hasil diatas terlihat total penjualan keseluruhan ada lebih dari 12 Miliar Rupiah."
   ]
  },
  {
   "cell_type": "markdown",
   "metadata": {},
   "source": [
    "### Visualisasi Tren Penjualan dari Waktu ke Waktu"
   ]
  },
  {
   "cell_type": "code",
   "execution_count": 12,
   "metadata": {},
   "outputs": [
    {
     "data": {
      "image/png": "[encoded data removed]",
      "text/plain": [
       "<Figure size 1200x600 with 1 Axes>"
      ]
     },
     "metadata": {},
     "output_type": "display_data"
    }
   ],
   "source": [
    "# Buat kolom bulan & tahun dari kolom Date\n",
    "data_copy[\"Month_Year\"] = data_copy[\"Date\"].dt.to_period(\"M\")\n",
    "\n",
    "# Filter data untuk rentang waktu yang diinginkan\n",
    "data_filtered = data_copy[(data_copy[\"Date\"] >= \"24-01-01\") & \n",
    "                            (data_copy[\"Date\"] < \"2025-05-01\")]\n",
    "\n",
    "# Hitung total penjualan per bulan\n",
    "monthly_sales = data_filtered.groupby(\"Month_Year\")[\"Total_Sales\"].sum().reset_index()\n",
    "\n",
    "#Ubah Month_Year menjadi string agar lebih mudah di-plot\n",
    "monthly_sales[\"Month_Year\"] = monthly_sales[\"Month_Year\"].astype(str)\n",
    "\n",
    "# Plot grafik penjualan bulanan\n",
    "plt.figure(figsize=(12, 6))\n",
    "sns.lineplot(data=monthly_sales, x=\"Month_Year\", y=\"Total_Sales\", \n",
    "            marker=\"o\", color=\"g\")\n",
    "\n",
    "# Format plot\n",
    "plt.xticks(rotation=45)\n",
    "plt.xlabel(\"Bulan\")\n",
    "plt.ylabel(\"Total Penjualan (Rp)\")\n",
    "plt.title(\"Tren Penjualan Bulanan\")\n",
    "plt.grid(True)\n",
    "\n",
    "# Menampilkan Grafik\n",
    "plt.show()"
   ]
  },
  {
   "cell_type": "markdown",
   "metadata": {},
   "source": [
    "Dari line chart di atas periode Januari 2024 sampai Juni 2024 adanya naik turun sales atau tidak stabil untuk salesnya. Adanya kenaikan dari Juni 2024 sampai September 2024 dan setelah itu adanya penurunan sampai Maret 2025. Namun di April 2025 adanya kenaikan sales. Karna di Mei 2025 datanya tidak lengkap maka tidak ditampilkan."
   ]
  },
  {
   "cell_type": "code",
   "execution_count": 13,
   "metadata": {},
   "outputs": [
    {
     "data": {
      "application/vnd.microsoft.datawrangler.viewer.v0+json": {
       "columns": [
        {
         "name": "index",
         "rawType": "int64",
         "type": "integer"
        },
        {
         "name": "Month_Year",
         "rawType": "object",
         "type": "string"
        },
        {
         "name": "Total_Sales",
         "rawType": "object",
         "type": "string"
        }
       ],
       "conversionMethod": "pd.DataFrame",
       "ref": "c626b368-6d9d-40aa-8e39-bc2a3839abf6",
       "rows": [
        [
         "0",
         "2024-01",
         "845,500,887"
        ],
        [
         "1",
         "2024-02",
         "628,861,143"
        ],
        [
         "2",
         "2024-03",
         "802,565,969"
        ],
        [
         "3",
         "2024-04",
         "618,733,138"
        ],
        [
         "4",
         "2024-05",
         "867,949,543"
        ],
        [
         "5",
         "2024-06",
         "715,010,176"
        ],
        [
         "6",
         "2024-07",
         "751,078,487"
        ],
        [
         "7",
         "2024-08",
         "823,219,217"
        ],
        [
         "8",
         "2024-09",
         "918,100,508"
        ],
        [
         "9",
         "2024-10",
         "913,458,596"
        ],
        [
         "10",
         "2024-11",
         "808,733,681"
        ],
        [
         "11",
         "2024-12",
         "828,172,204"
        ],
        [
         "12",
         "2025-01",
         "762,747,265"
        ],
        [
         "13",
         "2025-02",
         "719,536,831"
        ],
        [
         "14",
         "2025-03",
         "728,303,869"
        ],
        [
         "15",
         "2025-04",
         "874,820,484"
        ]
       ],
       "shape": {
        "columns": 2,
        "rows": 16
       }
      },
      "text/html": [
       "<div>\n",
       "<style scoped>\n",
       "    .dataframe tbody tr th:only-of-type {\n",
       "        vertical-align: middle;\n",
       "    }\n",
       "\n",
       "    .dataframe tbody tr th {\n",
       "        vertical-align: top;\n",
       "    }\n",
       "\n",
       "    .dataframe thead th {\n",
       "        text-align: right;\n",
       "    }\n",
       "</style>\n",
       "<table border=\"1\" class=\"dataframe\">\n",
       "  <thead>\n",
       "    <tr style=\"text-align: right;\">\n",
       "      <th></th>\n",
       "      <th>Month_Year</th>\n",
       "      <th>Total_Sales</th>\n",
       "    </tr>\n",
       "  </thead>\n",
       "  <tbody>\n",
       "    <tr>\n",
       "      <th>0</th>\n",
       "      <td>2024-01</td>\n",
       "      <td>845,500,887</td>\n",
       "    </tr>\n",
       "    <tr>\n",
       "      <th>1</th>\n",
       "      <td>2024-02</td>\n",
       "      <td>628,861,143</td>\n",
       "    </tr>\n",
       "    <tr>\n",
       "      <th>2</th>\n",
       "      <td>2024-03</td>\n",
       "      <td>802,565,969</td>\n",
       "    </tr>\n",
       "    <tr>\n",
       "      <th>3</th>\n",
       "      <td>2024-04</td>\n",
       "      <td>618,733,138</td>\n",
       "    </tr>\n",
       "    <tr>\n",
       "      <th>4</th>\n",
       "      <td>2024-05</td>\n",
       "      <td>867,949,543</td>\n",
       "    </tr>\n",
       "    <tr>\n",
       "      <th>5</th>\n",
       "      <td>2024-06</td>\n",
       "      <td>715,010,176</td>\n",
       "    </tr>\n",
       "    <tr>\n",
       "      <th>6</th>\n",
       "      <td>2024-07</td>\n",
       "      <td>751,078,487</td>\n",
       "    </tr>\n",
       "    <tr>\n",
       "      <th>7</th>\n",
       "      <td>2024-08</td>\n",
       "      <td>823,219,217</td>\n",
       "    </tr>\n",
       "    <tr>\n",
       "      <th>8</th>\n",
       "      <td>2024-09</td>\n",
       "      <td>918,100,508</td>\n",
       "    </tr>\n",
       "    <tr>\n",
       "      <th>9</th>\n",
       "      <td>2024-10</td>\n",
       "      <td>913,458,596</td>\n",
       "    </tr>\n",
       "    <tr>\n",
       "      <th>10</th>\n",
       "      <td>2024-11</td>\n",
       "      <td>808,733,681</td>\n",
       "    </tr>\n",
       "    <tr>\n",
       "      <th>11</th>\n",
       "      <td>2024-12</td>\n",
       "      <td>828,172,204</td>\n",
       "    </tr>\n",
       "    <tr>\n",
       "      <th>12</th>\n",
       "      <td>2025-01</td>\n",
       "      <td>762,747,265</td>\n",
       "    </tr>\n",
       "    <tr>\n",
       "      <th>13</th>\n",
       "      <td>2025-02</td>\n",
       "      <td>719,536,831</td>\n",
       "    </tr>\n",
       "    <tr>\n",
       "      <th>14</th>\n",
       "      <td>2025-03</td>\n",
       "      <td>728,303,869</td>\n",
       "    </tr>\n",
       "    <tr>\n",
       "      <th>15</th>\n",
       "      <td>2025-04</td>\n",
       "      <td>874,820,484</td>\n",
       "    </tr>\n",
       "  </tbody>\n",
       "</table>\n",
       "</div>"
      ],
      "text/plain": [
       "   Month_Year  Total_Sales\n",
       "0     2024-01  845,500,887\n",
       "1     2024-02  628,861,143\n",
       "2     2024-03  802,565,969\n",
       "3     2024-04  618,733,138\n",
       "4     2024-05  867,949,543\n",
       "5     2024-06  715,010,176\n",
       "6     2024-07  751,078,487\n",
       "7     2024-08  823,219,217\n",
       "8     2024-09  918,100,508\n",
       "9     2024-10  913,458,596\n",
       "10    2024-11  808,733,681\n",
       "11    2024-12  828,172,204\n",
       "12    2025-01  762,747,265\n",
       "13    2025-02  719,536,831\n",
       "14    2025-03  728,303,869\n",
       "15    2025-04  874,820,484"
      ]
     },
     "execution_count": 13,
     "metadata": {},
     "output_type": "execute_result"
    }
   ],
   "source": [
    "# Menampilkan detail sales periode Januari 2024 April 2025\n",
    "monthly_sales[\"Total_Sales\"] = monthly_sales[\"Total_Sales\"].apply(lambda x:f\"{x:,.0f}\")\n",
    "\n",
    "monthly_sales"
   ]
  },
  {
   "cell_type": "markdown",
   "metadata": {},
   "source": [
    "### Analisis Kategori Produk Terlaris"
   ]
  },
  {
   "cell_type": "code",
   "execution_count": 14,
   "metadata": {},
   "outputs": [],
   "source": [
    "# Hitung total penjualan per kategori\n",
    "category_sales = data_copy.groupby(\"Category\")[\"Total_Sales\"].sum().reset_index()\n",
    "\n",
    "# Urutkan dari yang terbesar ke terkecil\n",
    "category_sales = category_sales.sort_values(by = \"Total_Sales\", ascending = False)"
   ]
  },
  {
   "cell_type": "code",
   "execution_count": 15,
   "metadata": {},
   "outputs": [
    {
     "data": {
      "image/png": "[encoded data removed]",
      "text/plain": [
       "<Figure size 1000x550 with 1 Axes>"
      ]
     },
     "metadata": {},
     "output_type": "display_data"
    }
   ],
   "source": [
    "# Plot bar chart\n",
    "plt.figure(figsize=(10,5.5))\n",
    "sns.barplot(data = category_sales, x=\"Total_Sales\", y=\"Category\", palette=\"viridis\")\n",
    "\n",
    "# Format sumbu X agar angka mudah dibaca\n",
    "plt.gca().xaxis.set_major_formatter(ticker.FuncFormatter(lambda x, _:f'{int(x):,}'))\n",
    "\n",
    "# Format Plot\n",
    "plt.xlabel(\"Total Penjualan (Rp)\")\n",
    "plt.ylabel(\"Kategori Produk\")\n",
    "plt.title(\"Kategori produk Penjualan Terbanyak\")\n",
    "plt.xticks(rotation=40)\n",
    "plt.grid(axis=\"x\")\n",
    "\n",
    "# Menampilkan grafik\n",
    "plt.show()"
   ]
  },
  {
   "cell_type": "markdown",
   "metadata": {},
   "source": [
    "Dari bar chart terlampir bisa disimpulkan kategori dengan sales tertinggi ada di Electronics dan Accessories. Total dari penjualan dari 2 kategori tersebut kurang lebih 13 Miliar Rupiah."
   ]
  },
  {
   "cell_type": "markdown",
   "metadata": {},
   "source": [
    "### Analisis Metode Pembayaran Paling Populer"
   ]
  },
  {
   "cell_type": "code",
   "execution_count": 16,
   "metadata": {},
   "outputs": [],
   "source": [
    "# Hitung jumlah transaksi per metode pembayaran\n",
    "payment_counts = data_copy[\"Payment_Method\"].value_counts().reset_index()\n",
    "payment_counts.columns = [\"Payment_Method\", \"Transaction_Count\"]"
   ]
  },
  {
   "cell_type": "code",
   "execution_count": 17,
   "metadata": {},
   "outputs": [
    {
     "data": {
      "image/png": "[encoded data removed]",
      "text/plain": [
       "<Figure size 800x800 with 1 Axes>"
      ]
     },
     "metadata": {},
     "output_type": "display_data"
    }
   ],
   "source": [
    "# Plot pie chart\n",
    "plt.figure(figsize=(8,8))\n",
    "plt.pie(payment_counts[\"Transaction_Count\"], labels=payment_counts[\"Payment_Method\"], autopct=\"%1.1f%%\", colors=sns.color_palette(\"viridis\"))\n",
    "\n",
    "# Format plot\n",
    "plt.title(\"Distribusi Metode Pembayaran\")\n",
    "plt.show()"
   ]
  },
  {
   "cell_type": "markdown",
   "metadata": {},
   "source": [
    "Dari Pie chart menampilkan metode pembayaran yang sering digunakan, dari yang tertinggi menggunakan bank transfer dan yang terendah menggunakan e-wallet"
   ]
  },
  {
   "cell_type": "markdown",
   "metadata": {},
   "source": [
    "### Analisis Metode Pembayaran Populer"
   ]
  },
  {
   "cell_type": "code",
   "execution_count": 18,
   "metadata": {},
   "outputs": [
    {
     "data": {
      "image/png": "[encoded data removed]",
      "text/plain": [
       "<Figure size 800x500 with 1 Axes>"
      ]
     },
     "metadata": {},
     "output_type": "display_data"
    }
   ],
   "source": [
    "# Plot metode pembayaran\n",
    "plt.figure(figsize=(8,5))\n",
    "sns.barplot(data=payment_counts, x=\"Transaction_Count\", y=\"Payment_Method\", palette=\"viridis\")\n",
    "\n",
    "# Format Plot\n",
    "plt.xlabel(\"Jumlah Transaksi\")\n",
    "plt.ylabel(\"Metode Pembayaran\")\n",
    "plt.title(\"Metode Pembayaran yang Sering Digunakan\")\n",
    "plt.grid(axis=\"x\")\n",
    "\n",
    "plt.show()"
   ]
  },
  {
   "cell_type": "markdown",
   "metadata": {},
   "source": [
    "Tidak jauh beda dengan pie chart sebelumnya, di bar chart ini menampilkan total pemakaian dari metode pembayaran yang sering digunakan yaitu bank transfer dan terendah e-wallet"
   ]
  },
  {
   "cell_type": "markdown",
   "metadata": {},
   "source": [
    "### Analisis Lokasi Pelanggan dengan Transaksi Terbanyak"
   ]
  },
  {
   "cell_type": "code",
   "execution_count": 19,
   "metadata": {},
   "outputs": [
    {
     "data": {
      "application/vnd.microsoft.datawrangler.viewer.v0+json": {
       "columns": [
        {
         "name": "index",
         "rawType": "int64",
         "type": "integer"
        },
        {
         "name": "Customer_Location",
         "rawType": "object",
         "type": "string"
        },
        {
         "name": "Transaction_Count",
         "rawType": "int64",
         "type": "integer"
        }
       ],
       "conversionMethod": "pd.DataFrame",
       "ref": "b6a8e4a1-4e85-4285-96a9-0cda8158cf5c",
       "rows": [
        [
         "0",
         "Surabaya",
         "106"
        ],
        [
         "1",
         "Medan",
         "105"
        ],
        [
         "2",
         "Yogyakarta",
         "102"
        ],
        [
         "3",
         "Jakarta",
         "94"
        ],
        [
         "4",
         "Bandung",
         "79"
        ]
       ],
       "shape": {
        "columns": 2,
        "rows": 5
       }
      },
      "text/html": [
       "<div>\n",
       "<style scoped>\n",
       "    .dataframe tbody tr th:only-of-type {\n",
       "        vertical-align: middle;\n",
       "    }\n",
       "\n",
       "    .dataframe tbody tr th {\n",
       "        vertical-align: top;\n",
       "    }\n",
       "\n",
       "    .dataframe thead th {\n",
       "        text-align: right;\n",
       "    }\n",
       "</style>\n",
       "<table border=\"1\" class=\"dataframe\">\n",
       "  <thead>\n",
       "    <tr style=\"text-align: right;\">\n",
       "      <th></th>\n",
       "      <th>Customer_Location</th>\n",
       "      <th>Transaction_Count</th>\n",
       "    </tr>\n",
       "  </thead>\n",
       "  <tbody>\n",
       "    <tr>\n",
       "      <th>0</th>\n",
       "      <td>Surabaya</td>\n",
       "      <td>106</td>\n",
       "    </tr>\n",
       "    <tr>\n",
       "      <th>1</th>\n",
       "      <td>Medan</td>\n",
       "      <td>105</td>\n",
       "    </tr>\n",
       "    <tr>\n",
       "      <th>2</th>\n",
       "      <td>Yogyakarta</td>\n",
       "      <td>102</td>\n",
       "    </tr>\n",
       "    <tr>\n",
       "      <th>3</th>\n",
       "      <td>Jakarta</td>\n",
       "      <td>94</td>\n",
       "    </tr>\n",
       "    <tr>\n",
       "      <th>4</th>\n",
       "      <td>Bandung</td>\n",
       "      <td>79</td>\n",
       "    </tr>\n",
       "  </tbody>\n",
       "</table>\n",
       "</div>"
      ],
      "text/plain": [
       "  Customer_Location  Transaction_Count\n",
       "0          Surabaya                106\n",
       "1             Medan                105\n",
       "2        Yogyakarta                102\n",
       "3           Jakarta                 94\n",
       "4           Bandung                 79"
      ]
     },
     "execution_count": 19,
     "metadata": {},
     "output_type": "execute_result"
    }
   ],
   "source": [
    "# Hitung jumlah transaksi per lokasi pelanggan\n",
    "location_sales = data_copy[\"Customer_Location\"].value_counts().reset_index()\n",
    "location_sales.columns = [\"Customer_Location\", \"Transaction_Count\"]\n",
    "\n",
    "location_sales = location_sales.sort_values(by=\"Transaction_Count\", ascending=False)\n",
    "\n",
    "location_sales"
   ]
  },
  {
   "cell_type": "code",
   "execution_count": 20,
   "metadata": {},
   "outputs": [
    {
     "data": {
      "image/png": "[encoded data removed]",
      "text/plain": [
       "<Figure size 1200x600 with 1 Axes>"
      ]
     },
     "metadata": {},
     "output_type": "display_data"
    }
   ],
   "source": [
    "# Plot bar chart\n",
    "plt.figure(figsize=(12, 6))\n",
    "sns.barplot(data=location_sales, x=\"Transaction_Count\", y=\"Customer_Location\", palette=\"viridis\")\n",
    "\n",
    "# Format plot\n",
    "plt.xlabel(\"Jumlah Transaksi\")\n",
    "plt.ylabel(\"Kota Pelanggan\")\n",
    "plt.title(\"5 Kota Pelanggan dengan Transaksi Terbanyak\")\n",
    "plt.grid(axis=\"x\")\n",
    "\n",
    "plt.show()"
   ]
  },
  {
   "cell_type": "markdown",
   "metadata": {},
   "source": [
    "Grapik di atas menampilkan kota dengan jumlah transaksi terbanyak, tertinggi berada di Medan dan terendah berada di Bandung."
   ]
  },
  {
   "cell_type": "markdown",
   "metadata": {},
   "source": [
    "### Segmentasi Pelanggan Berdasarkan Total Pembelian\n"
   ]
  },
  {
   "cell_type": "code",
   "execution_count": 21,
   "metadata": {},
   "outputs": [],
   "source": [
    "# Hitung total belanja per pelanggan\n",
    "customer_spending = data_copy.groupby(\"Customer_Location\")[\"Total_Sales\"].sum().reset_index()\n",
    "\n",
    "# Urutkan berdasarkan pengeluaran tertinggi\n",
    "customer_spending = customer_spending.sort_values(by=\"Total_Sales\", ascending=False)"
   ]
  },
  {
   "cell_type": "code",
   "execution_count": 22,
   "metadata": {},
   "outputs": [
    {
     "data": {
      "image/png": "[encoded data removed]",
      "text/plain": [
       "<Figure size 1000x500 with 1 Axes>"
      ]
     },
     "metadata": {},
     "output_type": "display_data"
    }
   ],
   "source": [
    "# Konversi menjadi numerik\n",
    "customer_spending[\"Total_Sales\"] = pd.to_numeric(customer_spending[\"Total_Sales\"], errors=\"coerce\")\n",
    "customer_spending[\"Customer_Location\"] = customer_spending[\"Customer_Location\"].astype(str)\n",
    "\n",
    "# Plot grafik total belanja pelanggan\n",
    "plt.figure(figsize=(10,5))\n",
    "sns.barplot(data=customer_spending.head(5), x=\"Total_Sales\", y=\"Customer_Location\", palette=\"viridis\")\n",
    "\n",
    "# Format sumbu X agar angka mudah dibaca\n",
    "plt.gca().xaxis.set_major_formatter(ticker.FuncFormatter(lambda x, _:f'{int(x):,}'))\n",
    "\n",
    "# Format Plot\n",
    "plt.xlabel(\"Total Belanja (Rp)\")\n",
    "plt.ylabel(\"Kota Pelanggan\")\n",
    "plt.title(\"5 Kota dengan Total Belanja Tertinggi\")\n",
    "plt.grid(axis=\"x\")\n",
    "\n",
    "plt.show()"
   ]
  },
  {
   "cell_type": "markdown",
   "metadata": {},
   "source": [
    "Berdasarkan kota dalam total penjualan Surabaya memiliki penjualan tertinggi dengan total sales lebih 2.8 Miliar Rupiah dan Bandung yang terendah dengan total sales 2.1 Miliar Rupiah.\n"
   ]
  },
  {
   "cell_type": "code",
   "execution_count": 23,
   "metadata": {},
   "outputs": [
    {
     "data": {
      "application/vnd.microsoft.datawrangler.viewer.v0+json": {
       "columns": [
        {
         "name": "index",
         "rawType": "int64",
         "type": "integer"
        },
        {
         "name": "Customer_Location",
         "rawType": "object",
         "type": "string"
        },
        {
         "name": "Total_Sales",
         "rawType": "object",
         "type": "string"
        }
       ],
       "conversionMethod": "pd.DataFrame",
       "ref": "97be5cd3-4988-495f-b182-dae5cd04cddd",
       "rows": [
        [
         "3",
         "Surabaya",
         "2,819,451,192"
        ],
        [
         "2",
         "Medan",
         "2,644,791,118"
        ],
        [
         "1",
         "Jakarta",
         "2,556,541,059"
        ],
        [
         "4",
         "Yogyakarta",
         "2,461,801,491"
        ],
        [
         "0",
         "Bandung",
         "2,124,207,138"
        ]
       ],
       "shape": {
        "columns": 2,
        "rows": 5
       }
      },
      "text/html": [
       "<div>\n",
       "<style scoped>\n",
       "    .dataframe tbody tr th:only-of-type {\n",
       "        vertical-align: middle;\n",
       "    }\n",
       "\n",
       "    .dataframe tbody tr th {\n",
       "        vertical-align: top;\n",
       "    }\n",
       "\n",
       "    .dataframe thead th {\n",
       "        text-align: right;\n",
       "    }\n",
       "</style>\n",
       "<table border=\"1\" class=\"dataframe\">\n",
       "  <thead>\n",
       "    <tr style=\"text-align: right;\">\n",
       "      <th></th>\n",
       "      <th>Customer_Location</th>\n",
       "      <th>Total_Sales</th>\n",
       "    </tr>\n",
       "  </thead>\n",
       "  <tbody>\n",
       "    <tr>\n",
       "      <th>3</th>\n",
       "      <td>Surabaya</td>\n",
       "      <td>2,819,451,192</td>\n",
       "    </tr>\n",
       "    <tr>\n",
       "      <th>2</th>\n",
       "      <td>Medan</td>\n",
       "      <td>2,644,791,118</td>\n",
       "    </tr>\n",
       "    <tr>\n",
       "      <th>1</th>\n",
       "      <td>Jakarta</td>\n",
       "      <td>2,556,541,059</td>\n",
       "    </tr>\n",
       "    <tr>\n",
       "      <th>4</th>\n",
       "      <td>Yogyakarta</td>\n",
       "      <td>2,461,801,491</td>\n",
       "    </tr>\n",
       "    <tr>\n",
       "      <th>0</th>\n",
       "      <td>Bandung</td>\n",
       "      <td>2,124,207,138</td>\n",
       "    </tr>\n",
       "  </tbody>\n",
       "</table>\n",
       "</div>"
      ],
      "text/plain": [
       "  Customer_Location    Total_Sales\n",
       "3          Surabaya  2,819,451,192\n",
       "2             Medan  2,644,791,118\n",
       "1           Jakarta  2,556,541,059\n",
       "4        Yogyakarta  2,461,801,491\n",
       "0           Bandung  2,124,207,138"
      ]
     },
     "execution_count": 23,
     "metadata": {},
     "output_type": "execute_result"
    }
   ],
   "source": [
    "# Menampilkan total sales berdasarkan kota dengan format koma di setiap angkanya\n",
    "customer_spending[\"Total_Sales\"] = customer_spending[\"Total_Sales\"].apply(lambda x: f\"{x:,.0f}\")\n",
    "\n",
    "customer_spending"
   ]
  },
  {
   "cell_type": "markdown",
   "metadata": {},
   "source": [
    "### Pola Pembelian Berdasarkan Hari dalam Seminggu"
   ]
  },
  {
   "cell_type": "code",
   "execution_count": 24,
   "metadata": {},
   "outputs": [],
   "source": [
    "# Buat kolom baru untuk hari dalam seminggu\n",
    "data_copy[\"Day_of_Week\"] = data_copy[\"Date\"].dt.day_name()\n",
    "\n",
    "# Hitung jumlah transaksi per hari\n",
    "sales_per_day = data_copy[\"Day_of_Week\"].value_counts().reindex([\n",
    "    \"Monday\", \"Tuesday\", \"Wednesday\", \"Thursday\", \"Friday\", \"Saturday\", \"Sunday\"\n",
    "    ]).reset_index()\n",
    "sales_per_day.columns = [\"Day_of_Week\", \"Transaction_Count\"]"
   ]
  },
  {
   "cell_type": "code",
   "execution_count": 25,
   "metadata": {},
   "outputs": [
    {
     "data": {
      "image/png": "[encoded data removed]",
      "text/plain": [
       "<Figure size 1000x500 with 1 Axes>"
      ]
     },
     "metadata": {},
     "output_type": "display_data"
    }
   ],
   "source": [
    "# Plot bar chart\n",
    "plt.figure(figsize=(10,5))\n",
    "sns.barplot(data=sales_per_day, x=\"Day_of_Week\", y=\"Transaction_Count\", palette=\"viridis\")\n",
    "\n",
    "# Format plot\n",
    "plt.xlabel(\"Hari dalam seminggu\")\n",
    "plt.ylabel(\"Jumlah Transaksi\")\n",
    "plt.title(\"Pola Pembelian Berdasarkan Hari\")\n",
    "plt.grid(axis=\"y\")\n",
    "\n",
    "plt.show()"
   ]
  },
  {
   "cell_type": "markdown",
   "metadata": {},
   "source": [
    "Bar chart menampilkan pola pembelian dalam seminggu yang sering dilakukan. Transaksi di hari Senin, Selasa dan Rabu lebih banyak di banding hari yang lain. Namun Senin sampai Minggu tidak jauh berbeda jumalh transaksinya."
   ]
  },
  {
   "cell_type": "markdown",
   "metadata": {},
   "source": [
    "### Analisis Tren Penjualan Berdasarkan Waktu"
   ]
  },
  {
   "cell_type": "code",
   "execution_count": 26,
   "metadata": {},
   "outputs": [
    {
     "data": {
      "image/png": "[encoded data removed]",
      "text/plain": [
       "<Figure size 1000x500 with 1 Axes>"
      ]
     },
     "metadata": {},
     "output_type": "display_data"
    }
   ],
   "source": [
    "# Ambil Hari dari kolom Date\n",
    "data_copy[\"Day_of_Week\"] = data_copy[\"Date\"].dt.day_name()\n",
    "\n",
    "# Hitung total penjualan per hari dalam seminggu\n",
    "daily_sales = data_copy.groupby(\"Day_of_Week\")[\"Total_Sales\"].sum().reset_index()\n",
    "\n",
    "# Urutkan hari sesuai dengan urutan minggu\n",
    "days_order = [\"Monday\", \"Tuesday\", \"Wednesday\", \"Thursday\", \"Friday\", \"Saturday\", \"Sunday\"]\n",
    "daily_sales[\"Day_of_Week\"] = pd.Categorical(daily_sales[\"Day_of_Week\"], \n",
    "                                            categories=days_order, ordered=True)\n",
    "daily_sales = daily_sales.sort_values(\"Day_of_Week\")\n",
    "\n",
    "# Plot grafik tren penjualan per hari\n",
    "plt.figure(figsize=(10,5))\n",
    "sns.barplot(data=daily_sales, x=\"Day_of_Week\", \n",
    "            y=\"Total_Sales\", palette=\"viridis\")\n",
    "\n",
    "# Format plot\n",
    "plt.xlabel(\"Hari\")\n",
    "plt.ylabel(\"Total Penjualan (Rp)\")\n",
    "plt.title(\"Tren Penjualan Berdasarkan Hari dalam Seminggu\")\n",
    "plt.grid(axis=\"y\")\n",
    "\n",
    "plt.show()"
   ]
  },
  {
   "cell_type": "markdown",
   "metadata": {},
   "source": [
    "Total sales berdasarkan hari dalam seminggu. Senin memiliki sales tertinggi dengan total sales hampir 2 miliar dan Rabu memilki sales terendah dengna total sales lebih dari 1.5 miliar."
   ]
  },
  {
   "cell_type": "markdown",
   "metadata": {},
   "source": [
    "### Analisis Produk dengan Penjualan Tertinggi & Terendah"
   ]
  },
  {
   "cell_type": "code",
   "execution_count": 27,
   "metadata": {},
   "outputs": [],
   "source": [
    "# Hitung jumlah transaksi per produk\n",
    "product_sales = data_copy[\"Product\"].value_counts().reset_index()\n",
    "product_sales.columns = [\"Product\", \"Transaction_Count\"]\n",
    "\n",
    "# Mengambil 5 produk transaksi terbanyak\n",
    "top_products = product_sales.head(5)"
   ]
  },
  {
   "cell_type": "code",
   "execution_count": 28,
   "metadata": {},
   "outputs": [
    {
     "data": {
      "image/png": "[encoded data removed]",
      "text/plain": [
       "<Figure size 1200x500 with 1 Axes>"
      ]
     },
     "metadata": {},
     "output_type": "display_data"
    }
   ],
   "source": [
    "# Plot bar chart produk transaksi terbanyak\n",
    "plt.figure(figsize=(12, 5))\n",
    "sns.barplot(data=top_products, x=\"Transaction_Count\", y=\"Product\", palette=\"viridis\")\n",
    "plt.xlabel(\"Jumlah Transaksi\")\n",
    "plt.ylabel(\"Produk\")\n",
    "plt.title(\"5 Produk transaksi terbanyak\")\n",
    "plt.grid(axis=\"x\")\n",
    "plt.show()"
   ]
  },
  {
   "cell_type": "markdown",
   "metadata": {},
   "source": [
    "Tablet memiliki jumlah transaksi terbanyak dan headphones memiliki jumlah transaksi terendah."
   ]
  },
  {
   "cell_type": "markdown",
   "metadata": {},
   "source": [
    "### Analisis Performa Produk"
   ]
  },
  {
   "cell_type": "code",
   "execution_count": 29,
   "metadata": {},
   "outputs": [
    {
     "data": {
      "image/png": "[encoded data removed]",
      "text/plain": [
       "<Figure size 1200x600 with 1 Axes>"
      ]
     },
     "metadata": {},
     "output_type": "display_data"
    }
   ],
   "source": [
    "# Menghitung total kuantitas terjual per produk\n",
    "top_products = data_copy.groupby(\"Product\")[\"Quantity\"].sum().reset_index()\n",
    "\n",
    "# Urutkan berdasarkan kuantitas terbanyak\n",
    "top_products = top_products.sort_values(by=\"Quantity\", ascending=False).head(10)\n",
    "\n",
    "# Visualisasi produk paling laris\n",
    "plt.figure(figsize=(12, 6))\n",
    "sns.barplot(data=top_products, x=\"Quantity\",\n",
    "            y=\"Product\", palette=\"viridis\")\n",
    "plt.xlabel(\"Total Kuantitas Terjual\")\n",
    "plt.ylabel(\"Nama Produk\")\n",
    "plt.title(\"5 Produk Terlaris\")\n",
    "plt.grid(axis=\"x\")\n",
    "plt.show()"
   ]
  },
  {
   "cell_type": "markdown",
   "metadata": {},
   "source": [
    "Tablet memiliki penjulan terbanyak lebih dari 250 unit beradasarkan kuantitas, dan terendah berada di headphones terjual kurang dari 250 unit"
   ]
  },
  {
   "cell_type": "code",
   "execution_count": 30,
   "metadata": {},
   "outputs": [
    {
     "data": {
      "image/png": "[encoded data removed]",
      "text/plain": [
       "<Figure size 1200x600 with 1 Axes>"
      ]
     },
     "metadata": {},
     "output_type": "display_data"
    }
   ],
   "source": [
    "# Menghitung total pendapatan per produk\n",
    "top_revenue_products = data_copy.groupby(\"Product\")[\"Total_Sales\"].sum().reset_index()\n",
    "\n",
    "# Urutkan berdasarkan pendapatan tertinggi\n",
    "top_revenue_products = top_revenue_products.sort_values(by=\"Total_Sales\", ascending=False).head(10)\n",
    "\n",
    "# Visualisasi produk dengan pendapatan tertinggi\n",
    "plt.figure(figsize=(12, 6))\n",
    "sns.barplot(data=top_revenue_products, x=\"Total_Sales\", \n",
    "            y=\"Product\", palette=\"viridis\")\n",
    "plt.xlabel(\"Total Pendapatan (Rp)\")\n",
    "plt.ylabel(\"Nama Produk\")\n",
    "plt.title(\"5 Produk dengan Pendapatan Tertinggi\")\n",
    "plt.grid(axis=\"x\")\n",
    "plt.gca().get_xaxis().set_major_formatter(plt.FuncFormatter(lambda x, _: f\"{int(x):,}\"))  # Format angka\n",
    "plt.show()\n"
   ]
  },
  {
   "cell_type": "markdown",
   "metadata": {},
   "source": [
    "Bar chart menampilkan total sales dari produk yang dijual. Tablet memiliki sales tertinggi hampir 3 Miliar Rupiah, dan smartphone menjual kurang dari 2.5 Miliar Rupiah"
   ]
  },
  {
   "cell_type": "markdown",
   "metadata": {},
   "source": [
    "### Melihat Distribusi Harga Produk yang Terjual"
   ]
  },
  {
   "cell_type": "code",
   "execution_count": 33,
   "metadata": {},
   "outputs": [
    {
     "data": {
      "image/png": "[encoded data removed]",
      "text/plain": [
       "<Figure size 1000x500 with 1 Axes>"
      ]
     },
     "metadata": {},
     "output_type": "display_data"
    }
   ],
   "source": [
    "# Plot distribusi harga produk yang terjual\n",
    "plt.figure(figsize=(10,5))\n",
    "sns.histplot(data_copy[\"Price\"], bins=15, kde=True, color=\"g\")\n",
    "\n",
    "# Format sumbu X agar angka mudah dibaca\n",
    "plt.gca().xaxis.set_major_formatter(ticker.FuncFormatter(lambda x, _:f'{int(x):,}'))\n",
    "\n",
    "# Format plot\n",
    "plt.xlabel(\"Harga Produk (Rp)\")\n",
    "plt.ylabel(\"Frekuensi\")\n",
    "plt.title(\"Distribusi Harga Produk yang Terjual\")\n",
    "plt.grid(True)\n",
    "\n",
    "plt.show()"
   ]
  },
  {
   "cell_type": "markdown",
   "metadata": {},
   "source": [
    "Dari Histogram diatas menampilkan distribusi harga produk. harga tertinggi berada di kisaran harga 10 Juta sampai 12.5 Juta Rupiah, dan terendah berada di 15 juta ke atas."
   ]
  },
  {
   "cell_type": "markdown",
   "metadata": {},
   "source": [
    "### Analisis Korelasi Antara Variabel"
   ]
  },
  {
   "cell_type": "code",
   "execution_count": 32,
   "metadata": {},
   "outputs": [
    {
     "data": {
      "image/png": "[encoded data removed]",
      "text/plain": [
       "<Figure size 800x600 with 2 Axes>"
      ]
     },
     "metadata": {},
     "output_type": "display_data"
    }
   ],
   "source": [
    "# Hitung korelasi antara variabel numerik\n",
    "correlation_matrix = data_copy[[\"Price\", \"Quantity\", \"Total_Sales\"]].corr()\n",
    "\n",
    "# Plot heatmap untuk melihat korelasi\n",
    "plt.figure(figsize=(8,6))\n",
    "sns.heatmap(correlation_matrix, annot=True, \n",
    "            cmap=\"viridis\", fmt=\".2f\", \n",
    "            cbar=True, linewidth=0.5, square=True)\n",
    "\n",
    "# Format plot\n",
    "plt.title(\"Korelasi Antara Variable Harga, Kuantitas, dan Total Penjualan\")\n",
    "plt.xticks(fontsize=12)\n",
    "plt.yticks(fontsize=12)\n",
    "\n",
    "plt.show()"
   ]
  },
  {
   "cell_type": "markdown",
   "metadata": {},
   "source": [
    "Di heatmap chat berikut menampilkan korelasi antar variabel. Mulai dari price tidak terlalu berpengaruh oleh quantitas, dan memiliki pengaruh yang kuat untuk total_sales. Kedua, quantity memengaruhi juga untuk total sales tapi tidak sekuat price."
   ]
  },
  {
   "cell_type": "markdown",
   "metadata": {},
   "source": [
    "### Kesimpulan"
   ]
  },
  {
   "cell_type": "markdown",
   "metadata": {},
   "source": [
    "Dari hasil analisis saya diatas bisa disimpulkan bahwa total penjualan selama Januari 2024 - April 2025 yaitu Rp 12,606,791,998(Dua belas miliar enam ratus enam juta tujuh ratus sembilan puluh satu ribu sembilan ratus sembilan delapan rupiah). Sales tertinggi berada di September 2024 sebesar lebih dari 900 Juta Rupiah. Kategori dengan penjualan terbanyak berada di kategori Electronics dengan sales 7 Miliar Rupiah. Metode Pembayaran yang sering digunakan yaitu Bank transfer dengan persentase 27.4%. Kota dengan transaksi terbanyak berada di Surabaya dengan jumlah transaksi lebih dari 100 kali dan dengan total sales lebih dari 2.8 miliar rupiah. Dalam seminggu transaksi terbanyak ada di hari Senin, Selasa dan Rabu sebanyak 70 transaksi. Produk yang sering dibeli adalah tablet sebanyak 100 unit lebih dengan sales hampir 3 Miliar lebih."
   ]
  },
  {
   "cell_type": "markdown",
   "metadata": {},
   "source": [
    "Sekian dari analisa saya di mini project ini, Terima kasih dan See ya!!"
   ]
  }
 ],
 "metadata": {
  "kernelspec": {
   "display_name": "Py_New",
   "language": "python",
   "name": "python3"
  },
  "language_info": {
   "codemirror_mode": {
    "name": "ipython",
    "version": 3
   },
   "file_extension": ".py",
   "mimetype": "text/x-python",
   "name": "python",
   "nbconvert_exporter": "python",
   "pygments_lexer": "ipython3",
   "version": "3.13.2"
  }
 },
 "nbformat": 4,
 "nbformat_minor": 2
}
